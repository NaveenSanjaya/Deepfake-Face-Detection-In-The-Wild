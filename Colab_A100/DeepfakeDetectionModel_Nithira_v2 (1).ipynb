{
  "cells": [
    {
      "cell_type": "code",
      "execution_count": 1,
      "metadata": {
        "id": "8iGx5zdGZMoW"
      },
      "outputs": [],
      "source": [
        "import os\n",
        "import random\n",
        "import torch\n",
        "import torch.nn as nn\n",
        "import torch.optim as optim\n",
        "import torchvision\n",
        "from torchvision import datasets, transforms\n",
        "from torchvision.models import efficientnet_b0, EfficientNet_B0_Weights\n",
        "from torch.utils.data import Dataset, DataLoader, Subset\n",
        "import numpy as np\n",
        "from tqdm.auto import tqdm\n",
        "from torch.amp import GradScaler, autocast"
      ]
    },
    {
      "cell_type": "code",
      "execution_count": 2,
      "metadata": {
        "colab": {
          "base_uri": "https://localhost:8080/"
        },
        "id": "ykta1VX6aQ8I",
        "outputId": "e7ca47aa-bd3d-4d17-e00d-33b3e539f7c2"
      },
      "outputs": [
        {
          "output_type": "stream",
          "name": "stdout",
          "text": [
            "Using device: cuda\n"
          ]
        }
      ],
      "source": [
        "# Device configuration\n",
        "device = \"cuda\" if torch.cuda.is_available() else \"cpu\"\n",
        "print(f\"Using device: {device}\")"
      ]
    },
    {
      "cell_type": "code",
      "execution_count": 3,
      "metadata": {
        "colab": {
          "base_uri": "https://localhost:8080/"
        },
        "id": "8eKZfLkFabeI",
        "outputId": "e26bacd1-2713-4d72-a42d-eb26b5aab72d"
      },
      "outputs": [
        {
          "output_type": "stream",
          "name": "stdout",
          "text": [
            "Mounted at /content/drive\n"
          ]
        }
      ],
      "source": [
        "from google.colab import drive\n",
        "drive.mount('/content/drive')"
      ]
    },
    {
      "cell_type": "code",
      "execution_count": 4,
      "metadata": {
        "id": "Cx8da_ehUMQ2"
      },
      "outputs": [],
      "source": [
        "# Configure for maximum GPU utilization\n",
        "torch.backends.cudnn.benchmark = True\n",
        "torch.backends.cuda.matmul.allow_tf32 = True\n",
        "torch.backends.cudnn.allow_tf32 = True"
      ]
    },
    {
      "cell_type": "markdown",
      "metadata": {
        "id": "Uj-BS6LZaerr"
      },
      "source": [
        "## Preparing and Loading the Dataset"
      ]
    },
    {
      "cell_type": "code",
      "execution_count": 5,
      "metadata": {
        "id": "F7JO32VIaqmb"
      },
      "outputs": [],
      "source": [
        "train_dir = \"/content/drive/MyDrive/Colab Notebooks/SP Cup 2025/Dataset/train\"\n",
        "valid_dir = \"/content/drive/MyDrive/Colab Notebooks/SP Cup 2025/Dataset/valid\""
      ]
    },
    {
      "cell_type": "code",
      "execution_count": 6,
      "metadata": {
        "id": "x5bQIG4LUaQ-"
      },
      "outputs": [],
      "source": [
        "# Hyperparameters\n",
        "BATCH_SIZE = 128  # Increased batch size\n",
        "NUM_WORKERS = 4\n",
        "PREFETCH_FACTOR = 2\n",
        "SAMPLES_PER_EPOCH = 100  # Number of batches per epoch as suggested by tutor\n",
        "EPOCHS = 10\n",
        "#LEARNING_RATE = 0.001  # Adjusted learning rate"
      ]
    },
    {
      "cell_type": "code",
      "execution_count": 7,
      "metadata": {
        "id": "eOKB1d3XUhOP"
      },
      "outputs": [],
      "source": [
        "# Data transforms\n",
        "transform = transforms.Compose([\n",
        "    transforms.Resize((160, 160)),\n",
        "    transforms.ToTensor(),\n",
        "    transforms.Normalize(mean=[0.485, 0.456, 0.406], std=[0.229, 0.224, 0.225])\n",
        "])"
      ]
    },
    {
      "cell_type": "markdown",
      "metadata": {
        "id": "qOF-3FXHAzBy"
      },
      "source": [
        "## Model"
      ]
    },
    {
      "cell_type": "code",
      "execution_count": 8,
      "metadata": {
        "id": "lxSHKFYZA06_"
      },
      "outputs": [],
      "source": [
        "class FrequencyBranch(nn.Module):\n",
        "    def __init__(self, output_size=128, hidden_size1=512, hidden_size2=256):\n",
        "        super(FrequencyBranch, self).__init__()\n",
        "        input_size = 3 * 160 * 160 * 2\n",
        "        self.fc1 = nn.Linear(input_size, hidden_size1)\n",
        "        self.fc2 = nn.Linear(hidden_size1, hidden_size2)\n",
        "        self.fc3 = nn.Linear(hidden_size2, output_size)\n",
        "        self.relu = nn.ReLU()\n",
        "\n",
        "    def forward(self, img):\n",
        "        # GPU-optimized FFT operations\n",
        "        f_transform = torch.fft.fft2(img)\n",
        "        f_transform_shifted = torch.fft.fftshift(f_transform)\n",
        "        amplitude = torch.abs(f_transform_shifted)\n",
        "        phase = torch.angle(f_transform_shifted)\n",
        "        features = torch.cat((amplitude.flatten(1), phase.flatten(1)), dim=1)\n",
        "\n",
        "        x = self.relu(self.fc1(features))\n",
        "        x = self.relu(self.fc2(x))\n",
        "        return self.fc3(x)\n",
        "\n",
        "class PreTrainedBranch(nn.Module):\n",
        "    def __init__(self, input_channels=3, output_features=128):\n",
        "        super(PreTrainedBranch, self).__init__()\n",
        "        self.efficientnet = efficientnet_b0(weights=EfficientNet_B0_Weights.IMAGENET1K_V1)\n",
        "        self.efficientnet.classifier = nn.Sequential(\n",
        "            nn.Dropout(p=0.2, inplace=True),\n",
        "            nn.Linear(self.efficientnet.classifier[1].in_features, output_features),\n",
        "        )\n",
        "\n",
        "    def forward(self, x):\n",
        "        return self.efficientnet(x)\n",
        "\n",
        "class CombinedModel(nn.Module):\n",
        "    def __init__(self):\n",
        "        super(CombinedModel, self).__init__()\n",
        "        self.freq_branch = FrequencyBranch(output_size=128)\n",
        "        self.conv_branch = PreTrainedBranch(output_features=128)\n",
        "        self.fc1 = nn.Linear(256, 64)\n",
        "        self.fc2 = nn.Linear(64, 32)\n",
        "        self.fc3 = nn.Linear(32, 1)\n",
        "        self.dropout = nn.Dropout(0.5)\n",
        "\n",
        "    def forward(self, x):\n",
        "        freq_output = self.freq_branch(x)\n",
        "        conv_output = self.conv_branch(x)\n",
        "        combined = torch.cat((freq_output, conv_output), dim=1)\n",
        "        x = torch.relu(self.fc1(combined))\n",
        "        x = self.dropout(x)\n",
        "        x = torch.relu(self.fc2(x))\n",
        "        x = self.dropout(x)\n",
        "        return self.fc3(x)"
      ]
    },
    {
      "cell_type": "markdown",
      "metadata": {
        "id": "88bYtJqLVPdJ"
      },
      "source": [
        "## Dataloaders"
      ]
    },
    {
      "cell_type": "code",
      "execution_count": 9,
      "metadata": {
        "id": "kPP9GnSGVKSu"
      },
      "outputs": [],
      "source": [
        "def create_data_loaders():\n",
        "    # Create datasets\n",
        "    train_dataset = datasets.ImageFolder(train_dir, transform=transform)\n",
        "    valid_dataset = datasets.ImageFolder(valid_dir, transform=transform)\n",
        "\n",
        "    # Create subset indices for training\n",
        "    train_indices = torch.randperm(len(train_dataset))[:SAMPLES_PER_EPOCH * BATCH_SIZE]\n",
        "    train_subset = Subset(train_dataset, train_indices)\n",
        "\n",
        "    # Create data loaders with optimized settings\n",
        "    train_loader = DataLoader(\n",
        "        train_subset,\n",
        "        batch_size=BATCH_SIZE,\n",
        "        shuffle=True,\n",
        "        num_workers=NUM_WORKERS,\n",
        "        pin_memory=True,\n",
        "        prefetch_factor=PREFETCH_FACTOR,\n",
        "        persistent_workers=True\n",
        "    )\n",
        "\n",
        "    valid_loader = DataLoader(\n",
        "        valid_dataset,\n",
        "        batch_size=BATCH_SIZE,\n",
        "        shuffle=False,\n",
        "        num_workers=NUM_WORKERS,\n",
        "        pin_memory=True\n",
        "    )\n",
        "\n",
        "    return train_loader, valid_loader"
      ]
    },
    {
      "cell_type": "markdown",
      "metadata": {
        "id": "Blao8FdAVaeo"
      },
      "source": [
        "## Training"
      ]
    },
    {
      "cell_type": "code",
      "execution_count": null,
      "metadata": {
        "colab": {
          "base_uri": "https://localhost:8080/",
          "height": 292,
          "referenced_widgets": [
            "710d8cbca13c43a3a70a2736841b5320",
            "1ecbfe2b210f40629e5a259fa6bfb454",
            "17d056a6202248638ad6796aa0f5be46",
            "d978921cad8f4282a908cc6ae0f15f58",
            "3a2302b929d344eaa444cc450a46aa0a",
            "ec015a2e2a0a456d99aae72ef6288700",
            "d45cf9eb4e8544c383d6cb7ffd705156",
            "ff7fd828b47441089c9a141912273a6d",
            "944f7a42ef67445ca7ed4ea52c0ed202",
            "6d020e7ec87f47b6a7d15c01804050d8",
            "a3bff96943724801839df3cf7d822713"
          ]
        },
        "id": "0wQByHk5Gh1W",
        "outputId": "4db7a72f-203e-4db1-8ca5-bffc2d275049"
      },
      "outputs": [
        {
          "output_type": "stream",
          "name": "stdout",
          "text": [
            "GPU: NVIDIA A100-SXM4-40GB\n",
            "GPU Memory: 42.48 GB\n",
            "\n",
            "Training directory: /content/drive/MyDrive/Colab Notebooks/SP Cup 2025/Dataset/train\n",
            "Validation directory: /content/drive/MyDrive/Colab Notebooks/SP Cup 2025/Dataset/valid\n",
            "Initializing model...\n",
            "Setting up optimizer and loss function...\n",
            "Creating data loaders...\n",
            "Train loader length: 100\n",
            "Number of training samples: 12800\n",
            "\n",
            "Starting training loop...\n",
            "\n",
            "Epoch 1/10\n"
          ]
        },
        {
          "output_type": "display_data",
          "data": {
            "text/plain": [
              "  0%|          | 0/100 [00:00<?, ?it/s]"
            ],
            "application/vnd.jupyter.widget-view+json": {
              "version_major": 2,
              "version_minor": 0,
              "model_id": "710d8cbca13c43a3a70a2736841b5320"
            }
          },
          "metadata": {}
        }
      ],
      "source": [
        "def train_model():\n",
        "    print(\"Initializing model...\")\n",
        "    model = CombinedModel().to(device)\n",
        "\n",
        "    print(\"Setting up optimizer and loss function...\")\n",
        "    optimizer = optim.Adam(model.parameters(), lr=1e-4)\n",
        "    scheduler = optim.lr_scheduler.ReduceLROnPlateau(optimizer,\n",
        "                                                     mode='min',\n",
        "                                                     patience=2,\n",
        "                                                     factor=0.1)\n",
        "    loss_fn = nn.BCEWithLogitsLoss()\n",
        "    scaler = torch.amp.GradScaler('cuda')  # Updated to fix deprecation warning\n",
        "\n",
        "    print(\"Creating data loaders...\")\n",
        "    try:\n",
        "        train_loader, valid_loader = create_data_loaders()\n",
        "        print(f\"Train loader length: {len(train_loader)}\")\n",
        "        print(f\"Number of training samples: {len(train_loader.dataset)}\")\n",
        "    except Exception as e:\n",
        "        print(f\"Error in data loader creation: {e}\")\n",
        "        return\n",
        "\n",
        "    print(\"\\nStarting training loop...\")\n",
        "    for epoch in range(EPOCHS):\n",
        "        print(f\"\\nEpoch {epoch+1}/{EPOCHS}\")\n",
        "        model.train()\n",
        "        train_loss = 0\n",
        "        train_acc = 0\n",
        "\n",
        "        # Wrap the training loop in a try-except block\n",
        "        try:\n",
        "            for batch_idx, (data, target) in enumerate(tqdm(train_loader)):\n",
        "                try:\n",
        "                    # Debug print for first batch\n",
        "                    if batch_idx == 0:\n",
        "                        print(f\"\\nBatch shape: {data.shape}\")\n",
        "                        print(f\"Target shape: {target.shape}\")\n",
        "\n",
        "                    data, target = data.to(device), target.float().to(device)\n",
        "\n",
        "                    # Mixed precision training\n",
        "                    with autocast():\n",
        "                        output = model(data).squeeze()\n",
        "                        loss = loss_fn(output, target)\n",
        "\n",
        "                    # Gradient scaling and optimization\n",
        "                    optimizer.zero_grad(set_to_none=True)\n",
        "                    scaler.scale(loss).backward()\n",
        "                    scaler.unscale_(optimizer)\n",
        "                    torch.nn.utils.clip_grad_norm_(model.parameters(), max_norm=1.0)\n",
        "                    scaler.step(optimizer)\n",
        "                    scaler.update()\n",
        "\n",
        "                    # Calculate accuracy\n",
        "                    with torch.no_grad():\n",
        "                        pred = torch.sigmoid(output) >= 0.5\n",
        "                        train_acc += pred.eq(target.view_as(pred)).sum().item()\n",
        "                        train_loss += loss.item()\n",
        "\n",
        "                    # Print progress every 10 batches\n",
        "                    if batch_idx % 10 == 0:\n",
        "                        print(f\"\\nProcessed {batch_idx * len(data)}/{len(train_loader.dataset)} samples\")\n",
        "                        print(f\"Current batch loss: {loss.item():.4f}\")\n",
        "\n",
        "                    # Clear cache periodically\n",
        "                    if batch_idx % 10 == 0:\n",
        "                        torch.cuda.empty_cache()\n",
        "\n",
        "                except Exception as e:\n",
        "                    print(f\"Error in batch {batch_idx}: {e}\")\n",
        "                    continue\n",
        "\n",
        "            # Calculate epoch statistics\n",
        "            train_loss /= len(train_loader)\n",
        "            train_acc = 100. * train_acc / len(train_loader.dataset)\n",
        "\n",
        "            print(f'\\nEpoch: {epoch+1}')\n",
        "            print(f'Training Loss: {train_loss:.4f}, Training Accuracy: {train_acc:.2f}%')\n",
        "\n",
        "            # Validation\n",
        "            model.eval()\n",
        "            valid_loss = 0\n",
        "            valid_acc = 0\n",
        "\n",
        "            print(\"\\nStarting validation...\")\n",
        "            with torch.no_grad():\n",
        "                for data, target in valid_loader:\n",
        "                    data, target = data.to(device), target.float().to(device)\n",
        "                    output = model(data).squeeze()\n",
        "                    valid_loss += loss_fn(output, target).item()\n",
        "                    pred = torch.sigmoid(output) >= 0.5\n",
        "                    valid_acc += pred.eq(target.view_as(pred)).sum().item()\n",
        "\n",
        "            valid_loss /= len(valid_loader)\n",
        "            valid_acc = 100. * valid_acc / len(valid_loader.dataset)\n",
        "\n",
        "            print(f'Validation Loss: {valid_loss:.4f}, Validation Accuracy: {valid_acc:.2f}%\\n')\n",
        "\n",
        "            scheduler.step(valid_loss)\n",
        "\n",
        "            # Save model checkpoint\n",
        "            checkpoint_path = f'checkpoint_epoch_{epoch+1}.pt'\n",
        "            torch.save({\n",
        "                'epoch': epoch,\n",
        "                'model_state_dict': model.state_dict(),\n",
        "                'optimizer_state_dict': optimizer.state_dict(),\n",
        "                'train_loss': train_loss,\n",
        "                'valid_loss': valid_loss,\n",
        "            }, checkpoint_path)\n",
        "            print(f\"Saved checkpoint to {checkpoint_path}\")\n",
        "\n",
        "        except Exception as e:\n",
        "            print(f\"Error in epoch {epoch+1}: {e}\")\n",
        "            continue\n",
        "\n",
        "if __name__ == \"__main__\":\n",
        "    try:\n",
        "        # Print GPU information\n",
        "        if torch.cuda.is_available():\n",
        "            print(f\"GPU: {torch.cuda.get_device_name(0)}\")\n",
        "            print(f\"GPU Memory: {torch.cuda.get_device_properties(0).total_memory / 1e9:.2f} GB\")\n",
        "\n",
        "        # Print dataset information\n",
        "        print(f\"\\nTraining directory: {train_dir}\")\n",
        "        print(f\"Validation directory: {valid_dir}\")\n",
        "\n",
        "        train_model()\n",
        "    except Exception as e:\n",
        "        print(f\"Fatal error: {e}\")\n",
        "        raise"
      ]
    }
  ],
  "metadata": {
    "accelerator": "GPU",
    "colab": {
      "gpuType": "A100",
      "machine_shape": "hm",
      "provenance": []
    },
    "kernelspec": {
      "display_name": "Python 3",
      "name": "python3"
    },
    "language_info": {
      "name": "python"
    },
    "widgets": {
      "application/vnd.jupyter.widget-state+json": {
        "710d8cbca13c43a3a70a2736841b5320": {
          "model_module": "@jupyter-widgets/controls",
          "model_name": "HBoxModel",
          "model_module_version": "1.5.0",
          "state": {
            "_dom_classes": [],
            "_model_module": "@jupyter-widgets/controls",
            "_model_module_version": "1.5.0",
            "_model_name": "HBoxModel",
            "_view_count": null,
            "_view_module": "@jupyter-widgets/controls",
            "_view_module_version": "1.5.0",
            "_view_name": "HBoxView",
            "box_style": "",
            "children": [
              "IPY_MODEL_1ecbfe2b210f40629e5a259fa6bfb454",
              "IPY_MODEL_17d056a6202248638ad6796aa0f5be46",
              "IPY_MODEL_d978921cad8f4282a908cc6ae0f15f58"
            ],
            "layout": "IPY_MODEL_3a2302b929d344eaa444cc450a46aa0a"
          }
        },
        "1ecbfe2b210f40629e5a259fa6bfb454": {
          "model_module": "@jupyter-widgets/controls",
          "model_name": "HTMLModel",
          "model_module_version": "1.5.0",
          "state": {
            "_dom_classes": [],
            "_model_module": "@jupyter-widgets/controls",
            "_model_module_version": "1.5.0",
            "_model_name": "HTMLModel",
            "_view_count": null,
            "_view_module": "@jupyter-widgets/controls",
            "_view_module_version": "1.5.0",
            "_view_name": "HTMLView",
            "description": "",
            "description_tooltip": null,
            "layout": "IPY_MODEL_ec015a2e2a0a456d99aae72ef6288700",
            "placeholder": "​",
            "style": "IPY_MODEL_d45cf9eb4e8544c383d6cb7ffd705156",
            "value": "  0%"
          }
        },
        "17d056a6202248638ad6796aa0f5be46": {
          "model_module": "@jupyter-widgets/controls",
          "model_name": "FloatProgressModel",
          "model_module_version": "1.5.0",
          "state": {
            "_dom_classes": [],
            "_model_module": "@jupyter-widgets/controls",
            "_model_module_version": "1.5.0",
            "_model_name": "FloatProgressModel",
            "_view_count": null,
            "_view_module": "@jupyter-widgets/controls",
            "_view_module_version": "1.5.0",
            "_view_name": "ProgressView",
            "bar_style": "",
            "description": "",
            "description_tooltip": null,
            "layout": "IPY_MODEL_ff7fd828b47441089c9a141912273a6d",
            "max": 100,
            "min": 0,
            "orientation": "horizontal",
            "style": "IPY_MODEL_944f7a42ef67445ca7ed4ea52c0ed202",
            "value": 0
          }
        },
        "d978921cad8f4282a908cc6ae0f15f58": {
          "model_module": "@jupyter-widgets/controls",
          "model_name": "HTMLModel",
          "model_module_version": "1.5.0",
          "state": {
            "_dom_classes": [],
            "_model_module": "@jupyter-widgets/controls",
            "_model_module_version": "1.5.0",
            "_model_name": "HTMLModel",
            "_view_count": null,
            "_view_module": "@jupyter-widgets/controls",
            "_view_module_version": "1.5.0",
            "_view_name": "HTMLView",
            "description": "",
            "description_tooltip": null,
            "layout": "IPY_MODEL_6d020e7ec87f47b6a7d15c01804050d8",
            "placeholder": "​",
            "style": "IPY_MODEL_a3bff96943724801839df3cf7d822713",
            "value": " 0/100 [00:00&lt;?, ?it/s]"
          }
        },
        "3a2302b929d344eaa444cc450a46aa0a": {
          "model_module": "@jupyter-widgets/base",
          "model_name": "LayoutModel",
          "model_module_version": "1.2.0",
          "state": {
            "_model_module": "@jupyter-widgets/base",
            "_model_module_version": "1.2.0",
            "_model_name": "LayoutModel",
            "_view_count": null,
            "_view_module": "@jupyter-widgets/base",
            "_view_module_version": "1.2.0",
            "_view_name": "LayoutView",
            "align_content": null,
            "align_items": null,
            "align_self": null,
            "border": null,
            "bottom": null,
            "display": null,
            "flex": null,
            "flex_flow": null,
            "grid_area": null,
            "grid_auto_columns": null,
            "grid_auto_flow": null,
            "grid_auto_rows": null,
            "grid_column": null,
            "grid_gap": null,
            "grid_row": null,
            "grid_template_areas": null,
            "grid_template_columns": null,
            "grid_template_rows": null,
            "height": null,
            "justify_content": null,
            "justify_items": null,
            "left": null,
            "margin": null,
            "max_height": null,
            "max_width": null,
            "min_height": null,
            "min_width": null,
            "object_fit": null,
            "object_position": null,
            "order": null,
            "overflow": null,
            "overflow_x": null,
            "overflow_y": null,
            "padding": null,
            "right": null,
            "top": null,
            "visibility": null,
            "width": null
          }
        },
        "ec015a2e2a0a456d99aae72ef6288700": {
          "model_module": "@jupyter-widgets/base",
          "model_name": "LayoutModel",
          "model_module_version": "1.2.0",
          "state": {
            "_model_module": "@jupyter-widgets/base",
            "_model_module_version": "1.2.0",
            "_model_name": "LayoutModel",
            "_view_count": null,
            "_view_module": "@jupyter-widgets/base",
            "_view_module_version": "1.2.0",
            "_view_name": "LayoutView",
            "align_content": null,
            "align_items": null,
            "align_self": null,
            "border": null,
            "bottom": null,
            "display": null,
            "flex": null,
            "flex_flow": null,
            "grid_area": null,
            "grid_auto_columns": null,
            "grid_auto_flow": null,
            "grid_auto_rows": null,
            "grid_column": null,
            "grid_gap": null,
            "grid_row": null,
            "grid_template_areas": null,
            "grid_template_columns": null,
            "grid_template_rows": null,
            "height": null,
            "justify_content": null,
            "justify_items": null,
            "left": null,
            "margin": null,
            "max_height": null,
            "max_width": null,
            "min_height": null,
            "min_width": null,
            "object_fit": null,
            "object_position": null,
            "order": null,
            "overflow": null,
            "overflow_x": null,
            "overflow_y": null,
            "padding": null,
            "right": null,
            "top": null,
            "visibility": null,
            "width": null
          }
        },
        "d45cf9eb4e8544c383d6cb7ffd705156": {
          "model_module": "@jupyter-widgets/controls",
          "model_name": "DescriptionStyleModel",
          "model_module_version": "1.5.0",
          "state": {
            "_model_module": "@jupyter-widgets/controls",
            "_model_module_version": "1.5.0",
            "_model_name": "DescriptionStyleModel",
            "_view_count": null,
            "_view_module": "@jupyter-widgets/base",
            "_view_module_version": "1.2.0",
            "_view_name": "StyleView",
            "description_width": ""
          }
        },
        "ff7fd828b47441089c9a141912273a6d": {
          "model_module": "@jupyter-widgets/base",
          "model_name": "LayoutModel",
          "model_module_version": "1.2.0",
          "state": {
            "_model_module": "@jupyter-widgets/base",
            "_model_module_version": "1.2.0",
            "_model_name": "LayoutModel",
            "_view_count": null,
            "_view_module": "@jupyter-widgets/base",
            "_view_module_version": "1.2.0",
            "_view_name": "LayoutView",
            "align_content": null,
            "align_items": null,
            "align_self": null,
            "border": null,
            "bottom": null,
            "display": null,
            "flex": null,
            "flex_flow": null,
            "grid_area": null,
            "grid_auto_columns": null,
            "grid_auto_flow": null,
            "grid_auto_rows": null,
            "grid_column": null,
            "grid_gap": null,
            "grid_row": null,
            "grid_template_areas": null,
            "grid_template_columns": null,
            "grid_template_rows": null,
            "height": null,
            "justify_content": null,
            "justify_items": null,
            "left": null,
            "margin": null,
            "max_height": null,
            "max_width": null,
            "min_height": null,
            "min_width": null,
            "object_fit": null,
            "object_position": null,
            "order": null,
            "overflow": null,
            "overflow_x": null,
            "overflow_y": null,
            "padding": null,
            "right": null,
            "top": null,
            "visibility": null,
            "width": null
          }
        },
        "944f7a42ef67445ca7ed4ea52c0ed202": {
          "model_module": "@jupyter-widgets/controls",
          "model_name": "ProgressStyleModel",
          "model_module_version": "1.5.0",
          "state": {
            "_model_module": "@jupyter-widgets/controls",
            "_model_module_version": "1.5.0",
            "_model_name": "ProgressStyleModel",
            "_view_count": null,
            "_view_module": "@jupyter-widgets/base",
            "_view_module_version": "1.2.0",
            "_view_name": "StyleView",
            "bar_color": null,
            "description_width": ""
          }
        },
        "6d020e7ec87f47b6a7d15c01804050d8": {
          "model_module": "@jupyter-widgets/base",
          "model_name": "LayoutModel",
          "model_module_version": "1.2.0",
          "state": {
            "_model_module": "@jupyter-widgets/base",
            "_model_module_version": "1.2.0",
            "_model_name": "LayoutModel",
            "_view_count": null,
            "_view_module": "@jupyter-widgets/base",
            "_view_module_version": "1.2.0",
            "_view_name": "LayoutView",
            "align_content": null,
            "align_items": null,
            "align_self": null,
            "border": null,
            "bottom": null,
            "display": null,
            "flex": null,
            "flex_flow": null,
            "grid_area": null,
            "grid_auto_columns": null,
            "grid_auto_flow": null,
            "grid_auto_rows": null,
            "grid_column": null,
            "grid_gap": null,
            "grid_row": null,
            "grid_template_areas": null,
            "grid_template_columns": null,
            "grid_template_rows": null,
            "height": null,
            "justify_content": null,
            "justify_items": null,
            "left": null,
            "margin": null,
            "max_height": null,
            "max_width": null,
            "min_height": null,
            "min_width": null,
            "object_fit": null,
            "object_position": null,
            "order": null,
            "overflow": null,
            "overflow_x": null,
            "overflow_y": null,
            "padding": null,
            "right": null,
            "top": null,
            "visibility": null,
            "width": null
          }
        },
        "a3bff96943724801839df3cf7d822713": {
          "model_module": "@jupyter-widgets/controls",
          "model_name": "DescriptionStyleModel",
          "model_module_version": "1.5.0",
          "state": {
            "_model_module": "@jupyter-widgets/controls",
            "_model_module_version": "1.5.0",
            "_model_name": "DescriptionStyleModel",
            "_view_count": null,
            "_view_module": "@jupyter-widgets/base",
            "_view_module_version": "1.2.0",
            "_view_name": "StyleView",
            "description_width": ""
          }
        }
      }
    }
  },
  "nbformat": 4,
  "nbformat_minor": 0
}
